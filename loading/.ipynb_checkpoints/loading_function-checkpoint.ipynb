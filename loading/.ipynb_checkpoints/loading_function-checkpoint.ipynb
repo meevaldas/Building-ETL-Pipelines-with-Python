{
 "cells": [
  {
   "cell_type": "raw",
   "source": [],
   "metadata": {
    "collapsed": false
   },
   "id": "7f2e1bbfe77b777f"
  }
 ],
 "metadata": {},
 "nbformat": 4,
 "nbformat_minor": 5
}
