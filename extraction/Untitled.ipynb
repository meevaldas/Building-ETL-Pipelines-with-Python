{
 "cells": [
  {
   "cell_type": "code",
   "execution_count": 1,
   "id": "de5aae6c-0ebc-4468-8aeb-e6e177d4e755",
   "metadata": {},
   "outputs": [],
   "source": [
    "import pandas as pd\n",
    "import numpy as np"
   ]
  },
  {
   "cell_type": "code",
   "execution_count": 4,
   "id": "8404ffac-461a-43dc-99eb-dbce7fc1ec09",
   "metadata": {},
   "outputs": [],
   "source": [
    "# Create a DataFrame of Integers with some missing values\n",
    "df = pd.DataFrame({\n",
    "    'A': [1, 2, np.nan, 4],\n",
    "    'B': [5, np.nan, np.nan, 8],\n",
    "    'C': [9, 10, 11, 12]\n",
    "})\n",
    "\n",
    "\n",
    "# Fill missing values with mean\n",
    "df.fillna(df.mean(), inplace=True)"
   ]
  },
  {
   "cell_type": "code",
   "execution_count": null,
   "id": "8e0e3392-d76c-4b05-8623-d5d35856ba91",
   "metadata": {},
   "outputs": [],
   "source": [
    "# Suppose 'A' is the column we want to normalize\n",
    "df['A'] = (df['A'] - df['A'].min()) / (df['A'].max() - df['A'].min())"
   ]
  }
 ],
 "metadata": {
  "kernelspec": {
   "display_name": "Python 3 (ipykernel)",
   "language": "python",
   "name": "python3"
  },
  "language_info": {
   "codemirror_mode": {
    "name": "ipython",
    "version": 3
   },
   "file_extension": ".py",
   "mimetype": "text/x-python",
   "name": "python",
   "nbconvert_exporter": "python",
   "pygments_lexer": "ipython3",
   "version": "3.10.12"
  }
 },
 "nbformat": 4,
 "nbformat_minor": 5
}
